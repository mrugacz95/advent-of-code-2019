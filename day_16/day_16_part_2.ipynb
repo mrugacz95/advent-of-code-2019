{
 "cells": [
  {
   "cell_type": "code",
   "execution_count": 1,
   "metadata": {},
   "outputs": [
    {
     "data": {
      "text/plain": [
       "5970927"
      ]
     },
     "execution_count": 1,
     "metadata": {},
     "output_type": "execute_result"
    }
   ],
   "source": [
    "function readFile()\n",
    "    open(\"day_16.in\", \"r\") do f\n",
    "      return read(f, String)\n",
    "    end\n",
    "end\n",
    "input = readFile()\n",
    "offset = parse(Int, input[1:7])"
   ]
  },
  {
   "cell_type": "code",
   "execution_count": 2,
   "metadata": {},
   "outputs": [],
   "source": [
    "input = input ^ 10000;"
   ]
  },
  {
   "cell_type": "code",
   "execution_count": 3,
   "metadata": {},
   "outputs": [],
   "source": [
    "input = map(x -> parse(Int, x), split(input, \"\"));"
   ]
  },
  {
   "cell_type": "code",
   "execution_count": 4,
   "metadata": {},
   "outputs": [
    {
     "data": {
      "text/plain": [
       "calcNumber (generic function with 1 method)"
      ]
     },
     "execution_count": 4,
     "metadata": {},
     "output_type": "execute_result"
    }
   ],
   "source": [
    "# too slow\n",
    "cache = Dict{Tuple{Int64,Int64},Int64}()\n",
    "function calcNumber(pos, step)\n",
    "    if haskey(cache, (pos, step))\n",
    "        return cache[(pos,step)]\n",
    "    end\n",
    "    if step == 0\n",
    "        cache[(pos,step)] = input[pos]\n",
    "        return input[pos]\n",
    "    end\n",
    "    print(step)\n",
    "    pattern = generate(length(input), pos)\n",
    "    sum = 0\n",
    "    for i=1:length(input)\n",
    "        if pattern[i] != 0\n",
    "            sum += pattern[i] * calcNumber(i, step - 1)\n",
    "        end\n",
    "    end\n",
    "    value =  abs(sum) % 10\n",
    "    cache[(pos,step)] = value\n",
    "    return value\n",
    "end\n",
    "#for i=offset:offset + 7\n",
    "#    print(calcNumber(i, 100))\n",
    "#end"
   ]
  },
  {
   "cell_type": "code",
   "execution_count": 5,
   "metadata": {},
   "outputs": [
    {
     "data": {
      "text/plain": [
       "calcPartialSum (generic function with 1 method)"
      ]
     },
     "execution_count": 5,
     "metadata": {},
     "output_type": "execute_result"
    }
   ],
   "source": [
    "function calcPartialSum(input)\n",
    "    partial = Array{Int64}(undef, length(input))\n",
    "    sum = 0\n",
    "    for i=1:length(input)\n",
    "        sum += input[i]\n",
    "        partial[i] = sum\n",
    "    end\n",
    "    return partial\n",
    "end"
   ]
  },
  {
   "cell_type": "code",
   "execution_count": 6,
   "metadata": {},
   "outputs": [
    {
     "data": {
      "text/plain": [
       "sumPeriod (generic function with 1 method)"
      ]
     },
     "execution_count": 6,
     "metadata": {},
     "output_type": "execute_result"
    }
   ],
   "source": [
    "function sumPeriod(partial, from, to)\n",
    "    if from == 1\n",
    "        return partial[to]\n",
    "    end\n",
    "    if from > length(partial)\n",
    "        return 0\n",
    "    end\n",
    "    if to > length(partial)\n",
    "        to = length(partial)\n",
    "    end\n",
    "    return partial[to] - partial[from - 1]\n",
    "end"
   ]
  },
  {
   "cell_type": "code",
   "execution_count": 7,
   "metadata": {},
   "outputs": [
    {
     "name": "stdout",
     "output_type": "stream",
     "text": [
      "116.090708 seconds (56.70 k allocations: 9.689 GiB, 0.72% gc time)\n"
     ]
    }
   ],
   "source": [
    "function fft(input)\n",
    "    for phase=1:100\n",
    "        new = Array{Int}(undef, length(input))\n",
    "        partial = calcPartialSum(input)\n",
    "        for pos = 1:length(input)\n",
    "            sum = 0\n",
    "            index = pos\n",
    "            while index <= length(input)\n",
    "                sum += sumPeriod(partial, index, index + pos - 1)\n",
    "                index += 2 * pos\n",
    "                sum -= sumPeriod(partial, index, index + pos - 1)\n",
    "                index += 2 * pos\n",
    "            end\n",
    "            new[pos] = abs(sum) % 10\n",
    "        end\n",
    "        input = new\n",
    "    end\n",
    "    return input\n",
    "end\n",
    "@time begin\n",
    "    input = fft(input)\n",
    "end;"
   ]
  },
  {
   "cell_type": "code",
   "execution_count": 8,
   "metadata": {},
   "outputs": [
    {
     "name": "stdout",
     "output_type": "stream",
     "text": [
      "39011547"
     ]
    }
   ],
   "source": [
    "print(join(input[offset+1:offset+8]))"
   ]
  }
 ],
 "metadata": {
  "kernelspec": {
   "display_name": "Julia 1.3.0",
   "language": "julia",
   "name": "julia-1.3"
  },
  "language_info": {
   "file_extension": ".jl",
   "mimetype": "application/julia",
   "name": "julia",
   "version": "1.3.0"
  }
 },
 "nbformat": 4,
 "nbformat_minor": 2
}
