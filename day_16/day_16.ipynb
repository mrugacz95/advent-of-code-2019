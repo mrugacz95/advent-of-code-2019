{
 "cells": [
  {
   "cell_type": "code",
   "execution_count": 46,
   "metadata": {},
   "outputs": [
    {
     "data": {
      "text/plain": [
       "readFile (generic function with 1 method)"
      ]
     },
     "execution_count": 46,
     "metadata": {},
     "output_type": "execute_result"
    }
   ],
   "source": [
    "function readFile()\n",
    "    open(\"day_16.in\", \"r\") do f\n",
    "      return read(f, String)\n",
    "    end\n",
    "end"
   ]
  },
  {
   "cell_type": "code",
   "execution_count": 47,
   "metadata": {},
   "outputs": [],
   "source": [
    "input = map(x -> parse(Int, x), split(readFile(), \"\"));"
   ]
  },
  {
   "cell_type": "code",
   "execution_count": 48,
   "metadata": {},
   "outputs": [],
   "source": [
    "function generate(len, step)\n",
    "    pattern = [0 1 0 -1]\n",
    "    result = Int64[]\n",
    "    index = 1\n",
    "    while true \n",
    "        for i=1:step\n",
    "            push!(result, pattern[index])\n",
    "            if length(result) > len\n",
    "                popfirst!(result)\n",
    "                return result\n",
    "            end\n",
    "        end\n",
    "        index = (index) % 4 + 1\n",
    "    end\n",
    "end;"
   ]
  },
  {
   "cell_type": "code",
   "execution_count": 49,
   "metadata": {},
   "outputs": [],
   "source": [
    "for phase = 1:100\n",
    "    new = Int64[]\n",
    "    for step=1:length(input)\n",
    "        sum = 0\n",
    "        for (p, v) in zip(generate(length(input), step), input)\n",
    "            sum += p * v\n",
    "        end\n",
    "        sum = abs(sum) % 10\n",
    "        push!(new, sum)\n",
    "    end\n",
    "    input = new\n",
    "end"
   ]
  },
  {
   "cell_type": "code",
   "execution_count": 50,
   "metadata": {},
   "outputs": [
    {
     "data": {
      "text/plain": [
       "\"15841929\""
      ]
     },
     "execution_count": 50,
     "metadata": {},
     "output_type": "execute_result"
    }
   ],
   "source": [
    "join(input[1:8])"
   ]
  },
  {
   "cell_type": "code",
   "execution_count": null,
   "metadata": {},
   "outputs": [],
   "source": []
  }
 ],
 "metadata": {
  "kernelspec": {
   "display_name": "Julia 1.3.0",
   "language": "julia",
   "name": "julia-1.3"
  },
  "language_info": {
   "file_extension": ".jl",
   "mimetype": "application/julia",
   "name": "julia",
   "version": "1.3.0"
  }
 },
 "nbformat": 4,
 "nbformat_minor": 2
}
